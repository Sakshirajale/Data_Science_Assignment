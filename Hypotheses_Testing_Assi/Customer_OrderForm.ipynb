{
 "cells": [
  {
   "cell_type": "code",
   "execution_count": 1,
   "id": "267cf682-c30e-472c-87e7-73db9f38a2fc",
   "metadata": {},
   "outputs": [
    {
     "data": {
      "text/plain": [
       "'\\n4.)\\tTelecall uses 4 centers around the globe to process customer order forms. \\n    They audit a certain % of the customer order forms. Any error in order form \\n    renders it defective and must be reworked before processing. The manager \\n    wants to check whether the defective % varies by center. Please analyze the \\n    data at 5% significance level and help the manager draw appropriate inferences.\\nFile: Customer OrderForm.csv\\n\\n'"
      ]
     },
     "execution_count": 1,
     "metadata": {},
     "output_type": "execute_result"
    }
   ],
   "source": [
    "'''\n",
    "4.)\tTelecall uses 4 centers around the globe to process customer order forms. \n",
    "    They audit a certain % of the customer order forms. Any error in order form \n",
    "    renders it defective and must be reworked before processing. The manager \n",
    "    wants to check whether the defective % varies by center. Please analyze the \n",
    "    data at 5% significance level and help the manager draw appropriate inferences.\n",
    "File: Customer OrderForm.csv\n",
    "\n",
    "'''"
   ]
  },
  {
   "cell_type": "code",
   "execution_count": 2,
   "id": "ade1b1a8-bb1f-4e4b-b4ad-8d1e9e24b2ba",
   "metadata": {},
   "outputs": [],
   "source": [
    "# Import Libraries\n",
    "import pandas as pd\n",
    "import numpy as np\n",
    "from scipy.stats import chi2_contingency\n"
   ]
  },
  {
   "cell_type": "code",
   "execution_count": 3,
   "id": "2b36336d-88ca-4700-8e8d-71a777efb677",
   "metadata": {},
   "outputs": [],
   "source": [
    "# Step 1: Load the dataset\n",
    "df = pd.read_csv(\"CustomerOrderform.csv\")"
   ]
  },
  {
   "cell_type": "code",
   "execution_count": 4,
   "id": "5bd509e3-a465-42ef-9887-4405dc774bb3",
   "metadata": {},
   "outputs": [
    {
     "name": "stdout",
     "output_type": "stream",
     "text": [
      "\n",
      "Contingency Table:\n",
      "               Error Free  Defective\n",
      "Phillippines         271         29\n",
      "Indonesia            267         33\n",
      "Malta                269         31\n",
      "India                280         20\n"
     ]
    }
   ],
   "source": [
    "# Step 2: Create a contingency table (count defective and non-defective forms per center)\n",
    "contingency_table = df.apply(pd.Series.value_counts).T\n",
    "print(\"\\nContingency Table:\\n\", contingency_table)"
   ]
  },
  {
   "cell_type": "code",
   "execution_count": 5,
   "id": "55d14bf2-f581-4565-a6dc-76e906cd0779",
   "metadata": {},
   "outputs": [],
   "source": [
    "# Step 3: Perform Chi-Square Test\n",
    "chi2_stat, p_value, dof, expected = chi2_contingency(contingency_table)"
   ]
  },
  {
   "cell_type": "code",
   "execution_count": 6,
   "id": "80163bc8-6fe9-4aa9-9c8d-c1c49d159dda",
   "metadata": {},
   "outputs": [
    {
     "name": "stdout",
     "output_type": "stream",
     "text": [
      "\n",
      "Chi-Square Statistic: 3.8590\n"
     ]
    }
   ],
   "source": [
    "# Display Results\n",
    "print(f\"\\nChi-Square Statistic: {chi2_stat:.4f}\")"
   ]
  },
  {
   "cell_type": "code",
   "execution_count": 7,
   "id": "5c388912-52ec-4fed-89c2-b2d672778548",
   "metadata": {},
   "outputs": [
    {
     "name": "stdout",
     "output_type": "stream",
     "text": [
      "p-value: 0.2771\n"
     ]
    }
   ],
   "source": [
    "print(f\"p-value: {p_value:.4f}\")"
   ]
  },
  {
   "cell_type": "code",
   "execution_count": 8,
   "id": "f26e4111-e9d8-4280-9f46-88318d33f510",
   "metadata": {},
   "outputs": [
    {
     "name": "stdout",
     "output_type": "stream",
     "text": [
      "Degrees of Freedom: 3\n"
     ]
    }
   ],
   "source": [
    "print(f\"Degrees of Freedom: {dof}\")"
   ]
  },
  {
   "cell_type": "code",
   "execution_count": 9,
   "id": "59de3e9b-a923-455a-af9a-27c2c762009a",
   "metadata": {},
   "outputs": [
    {
     "name": "stdout",
     "output_type": "stream",
     "text": [
      "\n",
      "Expected Frequencies Table:\n",
      "               Error Free  Defective\n",
      "Phillippines      271.75      28.25\n",
      "Indonesia         271.75      28.25\n",
      "Malta             271.75      28.25\n",
      "India             271.75      28.25\n"
     ]
    }
   ],
   "source": [
    "# Step 4: Display Expected Frequencies\n",
    "expected_df = pd.DataFrame(expected, columns=contingency_table.columns, index=contingency_table.index)\n",
    "print(\"\\nExpected Frequencies Table:\\n\", expected_df)"
   ]
  },
  {
   "cell_type": "code",
   "execution_count": 10,
   "id": "88ad0f04-0ee3-4347-8975-5dd5739a224a",
   "metadata": {},
   "outputs": [
    {
     "name": "stdout",
     "output_type": "stream",
     "text": [
      "\n",
      "Conclusion: Fail to reject the null hypothesis (H0).\n",
      "No significant variation in defective percentages across centers.\n",
      "\n"
     ]
    }
   ],
   "source": [
    "# Step 5: Conclusion\n",
    "\n",
    "if p_value < 0.05:\n",
    "    print(\"\\nConclusion: Reject the null hypothesis (H0).\")\n",
    "    print(\"Defective percentages vary across different centers.\\n\")\n",
    "else:\n",
    "    print(\"\\nConclusion: Fail to reject the null hypothesis (H0).\")\n",
    "    print(\"No significant variation in defective percentages across centers.\\n\")"
   ]
  },
  {
   "cell_type": "code",
   "execution_count": null,
   "id": "0d4c7cdf-0b86-4e21-91a5-e535c3279fb0",
   "metadata": {},
   "outputs": [],
   "source": []
  }
 ],
 "metadata": {
  "kernelspec": {
   "display_name": "Python 3 (ipykernel)",
   "language": "python",
   "name": "python3"
  },
  "language_info": {
   "codemirror_mode": {
    "name": "ipython",
    "version": 3
   },
   "file_extension": ".py",
   "mimetype": "text/x-python",
   "name": "python",
   "nbconvert_exporter": "python",
   "pygments_lexer": "ipython3",
   "version": "3.11.7"
  }
 },
 "nbformat": 4,
 "nbformat_minor": 5
}
