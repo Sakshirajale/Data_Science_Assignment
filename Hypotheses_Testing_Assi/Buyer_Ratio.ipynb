{
 "cells": [
  {
   "cell_type": "code",
   "execution_count": 1,
   "id": "ae0f987b-bb36-4097-bd8f-ebe8ce9023fe",
   "metadata": {},
   "outputs": [
    {
     "data": {
      "text/plain": [
       "'\\n3.)\\tSales of products in four different regions is tabulated for males and females. Find if male-female buyer rations are similar across regions.\\nEast West North South\\n\\nMales\\t50\\t142\\t131\\t70\\nFemales\\t550\\t351\\t480\\t350\\n\\nDataset==>Buyer Ratio.csv\\n'"
      ]
     },
     "execution_count": 1,
     "metadata": {},
     "output_type": "execute_result"
    }
   ],
   "source": [
    "'''\n",
    "3.)\tSales of products in four different regions is tabulated for males and females. Find if male-female buyer rations are similar across regions.\n",
    "East West North South\n",
    "\n",
    "Males\t50\t142\t131\t70\n",
    "Females\t550\t351\t480\t350\n",
    "\n",
    "Dataset==>Buyer Ratio.csv\n",
    "'''"
   ]
  },
  {
   "cell_type": "code",
   "execution_count": 2,
   "id": "1ce9441f-f31b-4659-9941-96ab74a05fc4",
   "metadata": {},
   "outputs": [],
   "source": [
    "#Import Libraries\n",
    "import pandas as pd\n",
    "import numpy as np\n",
    "import matplotlib.pyplot as plt\n",
    "import seaborn as sns\n",
    "from scipy.stats import stats\n",
    "from scipy.stats import chi2_contingency"
   ]
  },
  {
   "cell_type": "code",
   "execution_count": 3,
   "id": "fc69bec2-a955-4b9d-bdd8-e3b611c02906",
   "metadata": {},
   "outputs": [],
   "source": [
    "# Load the dataset\n",
    "df=pd.read_csv(\"BuyerRatio.csv\")"
   ]
  },
  {
   "cell_type": "code",
   "execution_count": 4,
   "id": "49c14719-5dba-4cc8-bb76-e44821204330",
   "metadata": {},
   "outputs": [
    {
     "data": {
      "text/html": [
       "<div>\n",
       "<style scoped>\n",
       "    .dataframe tbody tr th:only-of-type {\n",
       "        vertical-align: middle;\n",
       "    }\n",
       "\n",
       "    .dataframe tbody tr th {\n",
       "        vertical-align: top;\n",
       "    }\n",
       "\n",
       "    .dataframe thead th {\n",
       "        text-align: right;\n",
       "    }\n",
       "</style>\n",
       "<table border=\"1\" class=\"dataframe\">\n",
       "  <thead>\n",
       "    <tr style=\"text-align: right;\">\n",
       "      <th></th>\n",
       "      <th>Observed Values</th>\n",
       "      <th>East</th>\n",
       "      <th>West</th>\n",
       "      <th>North</th>\n",
       "      <th>South</th>\n",
       "    </tr>\n",
       "  </thead>\n",
       "  <tbody>\n",
       "    <tr>\n",
       "      <th>0</th>\n",
       "      <td>Males</td>\n",
       "      <td>50</td>\n",
       "      <td>142</td>\n",
       "      <td>131</td>\n",
       "      <td>70</td>\n",
       "    </tr>\n",
       "    <tr>\n",
       "      <th>1</th>\n",
       "      <td>Females</td>\n",
       "      <td>435</td>\n",
       "      <td>1523</td>\n",
       "      <td>1356</td>\n",
       "      <td>750</td>\n",
       "    </tr>\n",
       "  </tbody>\n",
       "</table>\n",
       "</div>"
      ],
      "text/plain": [
       "  Observed Values  East  West  North  South\n",
       "0           Males    50   142    131     70\n",
       "1         Females   435  1523   1356    750"
      ]
     },
     "execution_count": 4,
     "metadata": {},
     "output_type": "execute_result"
    }
   ],
   "source": [
    "# Display first few rows\n",
    "df.head()"
   ]
  },
  {
   "cell_type": "code",
   "execution_count": 5,
   "id": "fbf3a0a8-8de0-475e-a09c-1b23d4231501",
   "metadata": {},
   "outputs": [],
   "source": [
    "# Step 1: Create the Contingency Table\n",
    "# Assuming dataset has columns like 'Region', 'Male', 'Female'\n",
    "data = df.set_index(\"Observed Values\").T  # Transpose to match expected format"
   ]
  },
  {
   "cell_type": "code",
   "execution_count": 6,
   "id": "dd46d6f2-89b0-4c3d-a69a-e2fc0919a773",
   "metadata": {},
   "outputs": [],
   "source": [
    "# Step 2: Perform Chi-Square Test\n",
    "chi2_stat, p_value, dof, expected = chi2_contingency(data)"
   ]
  },
  {
   "cell_type": "code",
   "execution_count": 8,
   "id": "0e9ed1d6-8012-483f-b8aa-fb61ab84baae",
   "metadata": {},
   "outputs": [
    {
     "name": "stdout",
     "output_type": "stream",
     "text": [
      "\n",
      "Chi-Square Statistic: 1.5959\n"
     ]
    }
   ],
   "source": [
    "# Print results\n",
    "print(f\"\\nChi-Square Statistic: {chi2_stat:.4f}\")"
   ]
  },
  {
   "cell_type": "code",
   "execution_count": 9,
   "id": "e4017a30-9d8a-4e1b-be5e-107bb73ac46e",
   "metadata": {},
   "outputs": [
    {
     "name": "stdout",
     "output_type": "stream",
     "text": [
      "p-value: 0.6603\n"
     ]
    }
   ],
   "source": [
    "print(f\"p-value: {p_value:.4f}\")"
   ]
  },
  {
   "cell_type": "code",
   "execution_count": 10,
   "id": "7a7c8ba1-95bc-4691-9f37-c8b164e29818",
   "metadata": {},
   "outputs": [
    {
     "name": "stdout",
     "output_type": "stream",
     "text": [
      "Degrees of Freedom: 3\n"
     ]
    }
   ],
   "source": [
    "print(f\"Degrees of Freedom: {dof}\")"
   ]
  },
  {
   "cell_type": "code",
   "execution_count": 11,
   "id": "f95e4590-776b-4837-9178-38fabfd41db3",
   "metadata": {},
   "outputs": [
    {
     "name": "stdout",
     "output_type": "stream",
     "text": [
      "\n",
      "Expected Frequencies Table:\n",
      "Observed Values       Males      Females\n",
      "East              42.765313   442.234687\n",
      "West             146.812879  1518.187121\n",
      "North            131.117568  1355.882432\n",
      "South             72.304241   747.695759\n"
     ]
    }
   ],
   "source": [
    "print(\"\\nExpected Frequencies Table:\")\n",
    "print(pd.DataFrame(expected, columns=df['Observed Values'], index=['East','West','North','South']))"
   ]
  },
  {
   "cell_type": "code",
   "execution_count": 12,
   "id": "ad702493-578f-4841-b931-52f6efc30af5",
   "metadata": {},
   "outputs": [
    {
     "name": "stdout",
     "output_type": "stream",
     "text": [
      "\n",
      "Conclusion: Fail to reject the null hypothesis (H0).\n",
      "Male-female buyer ratios are similar across regions.\n",
      "\n"
     ]
    }
   ],
   "source": [
    "# Step 3: Conclusion\n",
    "if p_value < 0.05:\n",
    "    print(\"\\nConclusion: Reject the null hypothesis (H0).\")\n",
    "    print(\"Male-female buyer ratios are NOT similar across regions.\\n\")\n",
    "else:\n",
    "    print(\"\\nConclusion: Fail to reject the null hypothesis (H0).\")\n",
    "    print(\"Male-female buyer ratios are similar across regions.\\n\")"
   ]
  },
  {
   "cell_type": "code",
   "execution_count": null,
   "id": "edf5302c-9478-4827-b0e0-4d3c867e7e15",
   "metadata": {},
   "outputs": [],
   "source": []
  }
 ],
 "metadata": {
  "kernelspec": {
   "display_name": "Python 3 (ipykernel)",
   "language": "python",
   "name": "python3"
  },
  "language_info": {
   "codemirror_mode": {
    "name": "ipython",
    "version": 3
   },
   "file_extension": ".py",
   "mimetype": "text/x-python",
   "name": "python",
   "nbconvert_exporter": "python",
   "pygments_lexer": "ipython3",
   "version": "3.11.7"
  }
 },
 "nbformat": 4,
 "nbformat_minor": 5
}
