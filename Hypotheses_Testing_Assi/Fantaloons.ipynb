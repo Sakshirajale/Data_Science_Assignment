{
 "cells": [
  {
   "cell_type": "code",
   "execution_count": 1,
   "id": "83489877-5a51-4ea3-86e7-c155d2eb7719",
   "metadata": {},
   "outputs": [
    {
     "data": {
      "text/plain": [
       "'\\n5.)\\tFantaloons Sales managers commented that % of males versus females \\n    walking into the store differ based on day of the week. Analyze the \\n    data and determine whether there is evidence at 5 % significance \\n    level to support this hypothesis.\\nFile: Fantaloons.csv\\n'"
      ]
     },
     "execution_count": 1,
     "metadata": {},
     "output_type": "execute_result"
    }
   ],
   "source": [
    "'''\n",
    "5.)\tFantaloons Sales managers commented that % of males versus females \n",
    "    walking into the store differ based on day of the week. Analyze the \n",
    "    data and determine whether there is evidence at 5 % significance \n",
    "    level to support this hypothesis.\n",
    "File: Fantaloons.csv\n",
    "'''"
   ]
  },
  {
   "cell_type": "code",
   "execution_count": 2,
   "id": "ed645030-507a-4246-8826-6515f7b1bd73",
   "metadata": {},
   "outputs": [],
   "source": [
    "import pandas as pd\n",
    "import numpy as np\n",
    "from scipy.stats import chi2_contingency"
   ]
  },
  {
   "cell_type": "code",
   "execution_count": 3,
   "id": "8a69cd39-6c79-4413-8c10-500744b36b17",
   "metadata": {},
   "outputs": [],
   "source": [
    "# Step 1: Load the dataset\n",
    "df = pd.read_csv(\"Fantaloons.csv\")"
   ]
  },
  {
   "cell_type": "code",
   "execution_count": 4,
   "id": "367ae684-ef34-40ee-8e9f-180c6a993927",
   "metadata": {},
   "outputs": [
    {
     "data": {
      "text/html": [
       "<div>\n",
       "<style scoped>\n",
       "    .dataframe tbody tr th:only-of-type {\n",
       "        vertical-align: middle;\n",
       "    }\n",
       "\n",
       "    .dataframe tbody tr th {\n",
       "        vertical-align: top;\n",
       "    }\n",
       "\n",
       "    .dataframe thead th {\n",
       "        text-align: right;\n",
       "    }\n",
       "</style>\n",
       "<table border=\"1\" class=\"dataframe\">\n",
       "  <thead>\n",
       "    <tr style=\"text-align: right;\">\n",
       "      <th></th>\n",
       "      <th>Weekdays</th>\n",
       "      <th>Weekend</th>\n",
       "    </tr>\n",
       "  </thead>\n",
       "  <tbody>\n",
       "    <tr>\n",
       "      <th>0</th>\n",
       "      <td>Male</td>\n",
       "      <td>Female</td>\n",
       "    </tr>\n",
       "    <tr>\n",
       "      <th>1</th>\n",
       "      <td>Female</td>\n",
       "      <td>Male</td>\n",
       "    </tr>\n",
       "    <tr>\n",
       "      <th>2</th>\n",
       "      <td>Female</td>\n",
       "      <td>Male</td>\n",
       "    </tr>\n",
       "    <tr>\n",
       "      <th>3</th>\n",
       "      <td>Male</td>\n",
       "      <td>Female</td>\n",
       "    </tr>\n",
       "    <tr>\n",
       "      <th>4</th>\n",
       "      <td>Female</td>\n",
       "      <td>Female</td>\n",
       "    </tr>\n",
       "  </tbody>\n",
       "</table>\n",
       "</div>"
      ],
      "text/plain": [
       "  Weekdays Weekend\n",
       "0     Male  Female\n",
       "1   Female    Male\n",
       "2   Female    Male\n",
       "3     Male  Female\n",
       "4   Female  Female"
      ]
     },
     "execution_count": 4,
     "metadata": {},
     "output_type": "execute_result"
    }
   ],
   "source": [
    "# Display few rows\n",
    "df.head()"
   ]
  },
  {
   "cell_type": "code",
   "execution_count": 5,
   "id": "d963382b-18e3-4ccf-89fd-b4fdf5a0656c",
   "metadata": {},
   "outputs": [
    {
     "name": "stdout",
     "output_type": "stream",
     "text": [
      "\n",
      "Contingency Table:\n",
      "           Female  Male\n",
      "Weekdays     287   113\n",
      "Weekend      233   167\n"
     ]
    }
   ],
   "source": [
    "# Step 2: Create a contingency table (count of males and females per day)\n",
    "contingency_table = df.apply(pd.Series.value_counts).T\n",
    "print(\"\\nContingency Table:\\n\", contingency_table)"
   ]
  },
  {
   "cell_type": "code",
   "execution_count": 6,
   "id": "30fad067-c863-477f-8d88-23caf0b3fdac",
   "metadata": {},
   "outputs": [],
   "source": [
    "# Step 3: Perform Chi-Square Test\n",
    "chi2_stat, p_value, dof, expected = chi2_contingency(contingency_table)"
   ]
  },
  {
   "cell_type": "code",
   "execution_count": 7,
   "id": "a5182c7b-8813-4dcc-9928-929802ceb30f",
   "metadata": {},
   "outputs": [
    {
     "name": "stdout",
     "output_type": "stream",
     "text": [
      "\n",
      "Chi-Square Statistic: 15.4341\n"
     ]
    }
   ],
   "source": [
    "# Display Results\n",
    "print(f\"\\nChi-Square Statistic: {chi2_stat:.4f}\")"
   ]
  },
  {
   "cell_type": "code",
   "execution_count": 8,
   "id": "650eda1b-2f9f-4a08-8a9c-93ec4fb1a4b8",
   "metadata": {},
   "outputs": [
    {
     "name": "stdout",
     "output_type": "stream",
     "text": [
      "p-value: 0.0001\n"
     ]
    }
   ],
   "source": [
    "print(f\"p-value: {p_value:.4f}\")"
   ]
  },
  {
   "cell_type": "code",
   "execution_count": 9,
   "id": "3de84bc6-b899-4bac-8c69-c16ec6918921",
   "metadata": {},
   "outputs": [
    {
     "name": "stdout",
     "output_type": "stream",
     "text": [
      "Degrees of Freedom: 1\n"
     ]
    }
   ],
   "source": [
    "print(f\"Degrees of Freedom: {dof}\")"
   ]
  },
  {
   "cell_type": "code",
   "execution_count": 10,
   "id": "255d2ba5-7893-4f5e-810f-ff203b5a807a",
   "metadata": {},
   "outputs": [
    {
     "name": "stdout",
     "output_type": "stream",
     "text": [
      "\n",
      "Expected Frequencies Table:\n",
      "           Female   Male\n",
      "Weekdays   260.0  140.0\n",
      "Weekend    260.0  140.0\n"
     ]
    }
   ],
   "source": [
    "# Step 4: Display Expected Frequencies\n",
    "expected_df = pd.DataFrame(expected, columns=contingency_table.columns, index=contingency_table.index)\n",
    "print(\"\\nExpected Frequencies Table:\\n\", expected_df)"
   ]
  },
  {
   "cell_type": "code",
   "execution_count": 11,
   "id": "e0b2178e-ca20-42c7-aa40-79737bd279fa",
   "metadata": {},
   "outputs": [
    {
     "name": "stdout",
     "output_type": "stream",
     "text": [
      "\n",
      "Conclusion: Reject the null hypothesis (H0).\n",
      "The proportion of males and females varies by day.\n",
      "\n"
     ]
    }
   ],
   "source": [
    "# Step 5: Conclusion\n",
    "\n",
    "if p_value < 0.05:\n",
    "    print(\"\\nConclusion: Reject the null hypothesis (H0).\")\n",
    "    print(\"The proportion of males and females varies by day.\\n\")\n",
    "else:\n",
    "    print(\"\\nConclusion: Fail to reject the null hypothesis (H0).\")\n",
    "    print(\"No significant variation in the proportion of males and females by day.\\n\")"
   ]
  },
  {
   "cell_type": "code",
   "execution_count": null,
   "id": "be88108b-31f6-43ee-a705-226af32e4085",
   "metadata": {},
   "outputs": [],
   "source": []
  }
 ],
 "metadata": {
  "kernelspec": {
   "display_name": "Python 3 (ipykernel)",
   "language": "python",
   "name": "python3"
  },
  "language_info": {
   "codemirror_mode": {
    "name": "ipython",
    "version": 3
   },
   "file_extension": ".py",
   "mimetype": "text/x-python",
   "name": "python",
   "nbconvert_exporter": "python",
   "pygments_lexer": "ipython3",
   "version": "3.11.7"
  }
 },
 "nbformat": 4,
 "nbformat_minor": 5
}
