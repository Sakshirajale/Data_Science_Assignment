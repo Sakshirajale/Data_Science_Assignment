{
 "cells": [
  {
   "cell_type": "code",
   "execution_count": 5,
   "id": "3c04dba2-feb1-41c3-976d-607b3e152957",
   "metadata": {},
   "outputs": [
    {
     "data": {
      "text/plain": [
       "'\\n1.)\\tA F&B manager wants to determine whether there is any significant difference in the diameter of the cutlet between \\ntwo units. A randomly selected sample of cutlets was collected from both units and measured? Analyze the data and draw inferences \\nat 5% significance level. Please state the assumptions and tests that you carried out to check validity of the assumptions.\\nFile: Cutlets.csv\\n'"
      ]
     },
     "execution_count": 5,
     "metadata": {},
     "output_type": "execute_result"
    }
   ],
   "source": [
    "'''\n",
    "1.)\tA F&B manager wants to determine whether there is any significant difference in the diameter of the cutlet between \n",
    "two units. A randomly selected sample of cutlets was collected from both units and measured? Analyze the data and draw inferences \n",
    "at 5% significance level. Please state the assumptions and tests that you carried out to check validity of the assumptions.\n",
    "File: Cutlets.csv\n",
    "'''"
   ]
  },
  {
   "cell_type": "code",
   "execution_count": 14,
   "id": "e8ce2527-885e-41d5-bc6d-1087777c6251",
   "metadata": {},
   "outputs": [],
   "source": [
    "#Import libraries\n",
    "import pandas as pd\n",
    "import numpy as np\n",
    "import matplotlib.pyplot as plt\n",
    "import seaborn as sns\n",
    "from scipy.stats import shapiro, levene, ttest_ind\n",
    "from scipy import stats"
   ]
  },
  {
   "cell_type": "code",
   "execution_count": 15,
   "id": "2743d33c-4c7f-4f1e-afab-1ad9e98c074c",
   "metadata": {},
   "outputs": [],
   "source": [
    "# Load the dataset\n",
    "df=pd.read_csv(\"Cutlets.csv\")"
   ]
  },
  {
   "cell_type": "code",
   "execution_count": 16,
   "id": "ab3e58fa-814c-4ba9-8df4-6057f4886b62",
   "metadata": {},
   "outputs": [
    {
     "data": {
      "text/html": [
       "<div>\n",
       "<style scoped>\n",
       "    .dataframe tbody tr th:only-of-type {\n",
       "        vertical-align: middle;\n",
       "    }\n",
       "\n",
       "    .dataframe tbody tr th {\n",
       "        vertical-align: top;\n",
       "    }\n",
       "\n",
       "    .dataframe thead th {\n",
       "        text-align: right;\n",
       "    }\n",
       "</style>\n",
       "<table border=\"1\" class=\"dataframe\">\n",
       "  <thead>\n",
       "    <tr style=\"text-align: right;\">\n",
       "      <th></th>\n",
       "      <th>Unit A</th>\n",
       "      <th>Unit B</th>\n",
       "    </tr>\n",
       "  </thead>\n",
       "  <tbody>\n",
       "    <tr>\n",
       "      <th>0</th>\n",
       "      <td>6.8090</td>\n",
       "      <td>6.7703</td>\n",
       "    </tr>\n",
       "    <tr>\n",
       "      <th>1</th>\n",
       "      <td>6.4376</td>\n",
       "      <td>7.5093</td>\n",
       "    </tr>\n",
       "    <tr>\n",
       "      <th>2</th>\n",
       "      <td>6.9157</td>\n",
       "      <td>6.7300</td>\n",
       "    </tr>\n",
       "    <tr>\n",
       "      <th>3</th>\n",
       "      <td>7.3012</td>\n",
       "      <td>6.7878</td>\n",
       "    </tr>\n",
       "    <tr>\n",
       "      <th>4</th>\n",
       "      <td>7.4488</td>\n",
       "      <td>7.1522</td>\n",
       "    </tr>\n",
       "  </tbody>\n",
       "</table>\n",
       "</div>"
      ],
      "text/plain": [
       "   Unit A  Unit B\n",
       "0  6.8090  6.7703\n",
       "1  6.4376  7.5093\n",
       "2  6.9157  6.7300\n",
       "3  7.3012  6.7878\n",
       "4  7.4488  7.1522"
      ]
     },
     "execution_count": 16,
     "metadata": {},
     "output_type": "execute_result"
    }
   ],
   "source": [
    "#Display first few rows\n",
    "df.head()"
   ]
  },
  {
   "cell_type": "code",
   "execution_count": 17,
   "id": "f92b0fc6-a26f-4b1d-89bc-c7f95ef65836",
   "metadata": {},
   "outputs": [
    {
     "name": "stdout",
     "output_type": "stream",
     "text": [
      "\n",
      "Summary Statistics:\n",
      "          Unit A     Unit B\n",
      "count  35.000000  35.000000\n",
      "mean    7.019091   6.964297\n",
      "std     0.288408   0.343401\n",
      "min     6.437600   6.038000\n",
      "25%     6.831500   6.753600\n",
      "50%     6.943800   6.939900\n",
      "75%     7.280550   7.195000\n",
      "max     7.516900   7.545900\n"
     ]
    }
   ],
   "source": [
    "# Step 1: Exploratory Data Analysis (EDA)\n",
    "print(\"\\nSummary Statistics:\")\n",
    "print(df.describe())"
   ]
  },
  {
   "cell_type": "code",
   "execution_count": 18,
   "id": "234ffd42-528f-4516-a57a-fd25047bc5bf",
   "metadata": {},
   "outputs": [
    {
     "data": {
      "text/plain": [
       "<Figure size 1200x500 with 0 Axes>"
      ]
     },
     "execution_count": 18,
     "metadata": {},
     "output_type": "execute_result"
    },
    {
     "data": {
      "text/plain": [
       "<Figure size 1200x500 with 0 Axes>"
      ]
     },
     "metadata": {},
     "output_type": "display_data"
    }
   ],
   "source": [
    "# Step 2: Check Normality using Histogram and Boxplot\n",
    "plt.figure(figsize=(12,5))"
   ]
  },
  {
   "cell_type": "code",
   "execution_count": 19,
   "id": "e67137de-14be-4bb6-9a09-680d345468cb",
   "metadata": {},
   "outputs": [
    {
     "name": "stderr",
     "output_type": "stream",
     "text": [
      "C:\\Users\\ACER\\anaconda3\\Lib\\site-packages\\seaborn\\_oldcore.py:1119: FutureWarning: use_inf_as_na option is deprecated and will be removed in a future version. Convert inf values to NaN before operating instead.\n",
      "  with pd.option_context('mode.use_inf_as_na', True):\n",
      "C:\\Users\\ACER\\anaconda3\\Lib\\site-packages\\seaborn\\_oldcore.py:1119: FutureWarning: use_inf_as_na option is deprecated and will be removed in a future version. Convert inf values to NaN before operating instead.\n",
      "  with pd.option_context('mode.use_inf_as_na', True):\n"
     ]
    },
    {
     "data": {
      "text/plain": [
       "<matplotlib.legend.Legend at 0x248879f2b50>"
      ]
     },
     "execution_count": 19,
     "metadata": {},
     "output_type": "execute_result"
    },
    {
     "data": {
      "image/png": "[encoded data removed]",
      "text/plain": [
       "<Figure size 640x480 with 1 Axes>"
      ]
     },
     "metadata": {},
     "output_type": "display_data"
    }
   ],
   "source": [
    "#Histogram\n",
    "plt.subplot(1,2,1)\n",
    "sns.histplot(df['Unit A'],kde=True, color='blue',label='Unit A')\n",
    "sns.histplot(df['Unit B'],kde=True, color='red', label='Unit B')\n",
    "plt.title(\"Histogram of cutlet Diameters\")\n",
    "plt.legend()"
   ]
  },
  {
   "cell_type": "code",
   "execution_count": 20,
   "id": "d3b5c5f4-a8f7-45e8-85a2-8562bd579e40",
   "metadata": {},
   "outputs": [
    {
     "data": {
      "image/png": "[encoded data removed]",
      "text/plain": [
       "<Figure size 640x480 with 1 Axes>"
      ]
     },
     "metadata": {},
     "output_type": "display_data"
    }
   ],
   "source": [
    "#Boxplot\n",
    "plt.subplot(1,2,2)\n",
    "sns.boxplot(data=df)\n",
    "plt.title(\"Boxplot of cutlet diameter\")\n",
    "plt.show()"
   ]
  },
  {
   "cell_type": "code",
   "execution_count": 21,
   "id": "c71523c7-7717-4023-a053-e43625d454e1",
   "metadata": {},
   "outputs": [],
   "source": [
    "# Step 3: Perform Shapiro-Wilk Test for Normality\n",
    "stat1, p1 = shapiro(df['Unit A'])\n",
    "stat2, p2 = shapiro(df['Unit B'])"
   ]
  },
  {
   "cell_type": "code",
   "execution_count": 22,
   "id": "f5a888c9-d6d4-49c5-a7d2-a804bb6b9d60",
   "metadata": {},
   "outputs": [
    {
     "name": "stdout",
     "output_type": "stream",
     "text": [
      "\n",
      "Shapiro-Wilk Test Results:\n",
      "Unit A: W-statistic = nan, p-value = 1.0000\n",
      "Unit B: W-statistic = nan, p-value = 1.0000\n"
     ]
    }
   ],
   "source": [
    "print(\"\\nShapiro-Wilk Test Results:\")\n",
    "print(f\"Unit A: W-statistic = {stat1:.4f}, p-value = {p1:.4f}\")\n",
    "print(f\"Unit B: W-statistic = {stat2:.4f}, p-value = {p2:.4f}\")"
   ]
  },
  {
   "cell_type": "code",
   "execution_count": 23,
   "id": "5b5dc4e8-7bce-40f6-a26a-06946181ccbf",
   "metadata": {},
   "outputs": [
    {
     "name": "stdout",
     "output_type": "stream",
     "text": [
      "Both samples are normally distributed.\n",
      "\n"
     ]
    }
   ],
   "source": [
    "if p1 > 0.05 and p2 > 0.05:\n",
    "    print(\"Both samples are normally distributed.\\n\")\n",
    "else:\n",
    "    print(\"At least one sample is not normally distributed. Consider non-parametric tests.\\n\")"
   ]
  },
  {
   "cell_type": "code",
   "execution_count": 24,
   "id": "01ec8989-8e88-4cb3-a213-ea9e62b1f2b7",
   "metadata": {},
   "outputs": [],
   "source": [
    "# Step 4: Check Homogeneity of Variance using Levene’s test\n",
    "stat_lev, p_lev = levene(df['Unit A'], df['Unit B'])"
   ]
  },
  {
   "cell_type": "code",
   "execution_count": 25,
   "id": "8a6d45f0-9a95-41a8-8be2-488ee9a08092",
   "metadata": {},
   "outputs": [
    {
     "name": "stdout",
     "output_type": "stream",
     "text": [
      "\n",
      "Levene’s Test for Equal Variance:\n",
      "Levene’s Statistic = nan, p-value = nan\n"
     ]
    }
   ],
   "source": [
    "print(\"\\nLevene’s Test for Equal Variance:\")\n",
    "print(f\"Levene’s Statistic = {stat_lev:.4f}, p-value = {p_lev:.4f}\")"
   ]
  },
  {
   "cell_type": "code",
   "execution_count": 26,
   "id": "94718132-3006-4c9f-8c33-0a1da402c00d",
   "metadata": {},
   "outputs": [
    {
     "name": "stdout",
     "output_type": "stream",
     "text": [
      "Variances are not equal. Proceed with Welch’s t-test.\n",
      "\n"
     ]
    }
   ],
   "source": [
    "if p_lev > 0.05:\n",
    "    print(\"Variances are equal. Proceed with Student’s t-test.\\n\")\n",
    "else:\n",
    "    print(\"Variances are not equal. Proceed with Welch’s t-test.\\n\")"
   ]
  },
  {
   "cell_type": "code",
   "execution_count": 27,
   "id": "bd6a1b87-84be-4aa5-a303-cc383b7e41e0",
   "metadata": {},
   "outputs": [],
   "source": [
    "# Step 5: Perform Two-Sample t-test\n",
    "stat_t, p_t = ttest_ind(df['Unit A'], df['Unit B'], equal_var=(p_lev > 0.05))"
   ]
  },
  {
   "cell_type": "code",
   "execution_count": 28,
   "id": "ace066b2-77cb-4f70-b06e-9fefab6e971f",
   "metadata": {},
   "outputs": [
    {
     "name": "stdout",
     "output_type": "stream",
     "text": [
      "\n",
      "Two-Sample t-test Results:\n",
      "t-statistic = nan, p-value = nan\n"
     ]
    }
   ],
   "source": [
    "print(\"\\nTwo-Sample t-test Results:\")\n",
    "print(f\"t-statistic = {stat_t:.4f}, p-value = {p_t:.4f}\")"
   ]
  },
  {
   "cell_type": "code",
   "execution_count": 29,
   "id": "ba57f9ac-e839-40f3-89ef-9d5a41dbe403",
   "metadata": {},
   "outputs": [
    {
     "name": "stdout",
     "output_type": "stream",
     "text": [
      "\n",
      "Conclusion: Fail to reject the null hypothesis (H0).\n",
      "There is NO significant difference in the mean diameters of cutlets between the two units.\n",
      "\n"
     ]
    }
   ],
   "source": [
    "# Step 6: Conclusion\n",
    "if p_t < 0.05:\n",
    "    print(\"\\nConclusion: Reject the null hypothesis (H0).\")\n",
    "    print(\"There is a significant difference in the mean diameters of cutlets between the two units.\\n\")\n",
    "else:\n",
    "    print(\"\\nConclusion: Fail to reject the null hypothesis (H0).\")\n",
    "    print(\"There is NO significant difference in the mean diameters of cutlets between the two units.\\n\")"
   ]
  },
  {
   "cell_type": "code",
   "execution_count": null,
   "id": "8f2e0df7-ccda-462a-90a1-31faf94c7092",
   "metadata": {},
   "outputs": [],
   "source": []
  }
 ],
 "metadata": {
  "kernelspec": {
   "display_name": "Python 3 (ipykernel)",
   "language": "python",
   "name": "python3"
  },
  "language_info": {
   "codemirror_mode": {
    "name": "ipython",
    "version": 3
   },
   "file_extension": ".py",
   "mimetype": "text/x-python",
   "name": "python",
   "nbconvert_exporter": "python",
   "pygments_lexer": "ipython3",
   "version": "3.11.7"
  }
 },
 "nbformat": 4,
 "nbformat_minor": 5
}
