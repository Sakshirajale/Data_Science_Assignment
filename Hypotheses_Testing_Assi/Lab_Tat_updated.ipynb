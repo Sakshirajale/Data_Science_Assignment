{
 "cells": [
  {
   "cell_type": "code",
   "execution_count": 2,
   "id": "c5a810ed-d4b8-465c-b3f8-cfbae3d5aace",
   "metadata": {},
   "outputs": [
    {
     "data": {
      "text/plain": [
       "'\\n2.)\\tA hospital wants to determine whether there is any difference in the average Turn Around Time (TAT) of reports of the laboratories \\n    on their preferred list. They collected a random sample and recorded TAT for reports of 4 laboratories. TAT is defined as sample collected \\n    to report dispatch.Analyze the data and determine whether there is any difference in average TAT among the different laboratories at 5% \\n    significance level.\\nFile: LabTAT.csv\\n'"
      ]
     },
     "execution_count": 2,
     "metadata": {},
     "output_type": "execute_result"
    }
   ],
   "source": [
    "'''\n",
    "2.)\tA hospital wants to determine whether there is any difference in the average Turn Around Time (TAT) of reports of the laboratories \n",
    "    on their preferred list. They collected a random sample and recorded TAT for reports of 4 laboratories. TAT is defined as sample collected \n",
    "    to report dispatch.Analyze the data and determine whether there is any difference in average TAT among the different laboratories at 5% \n",
    "    significance level.\n",
    "File: LabTAT.csv\n",
    "'''"
   ]
  },
  {
   "cell_type": "code",
   "execution_count": 3,
   "id": "da82bec3-404a-4889-8cb9-1ea967ab3696",
   "metadata": {},
   "outputs": [],
   "source": [
    "# Import necessary libraries\n",
    "import pandas as pd\n",
    "import numpy as np\n",
    "import matplotlib.pyplot as plt\n",
    "import seaborn as sns\n",
    "from scipy.stats import shapiro, levene, f_oneway"
   ]
  },
  {
   "cell_type": "code",
   "execution_count": 4,
   "id": "61b3e46e-ba28-45ef-971a-a54ea5bf3c83",
   "metadata": {},
   "outputs": [],
   "source": [
    "# Load the dataset\n",
    "df = pd.read_csv(\"lab_tat_updated.csv\")"
   ]
  },
  {
   "cell_type": "code",
   "execution_count": 5,
   "id": "91d8701b-da4c-4886-bac2-57a2ab44f767",
   "metadata": {},
   "outputs": [
    {
     "data": {
      "text/html": [
       "<div>\n",
       "<style scoped>\n",
       "    .dataframe tbody tr th:only-of-type {\n",
       "        vertical-align: middle;\n",
       "    }\n",
       "\n",
       "    .dataframe tbody tr th {\n",
       "        vertical-align: top;\n",
       "    }\n",
       "\n",
       "    .dataframe thead th {\n",
       "        text-align: right;\n",
       "    }\n",
       "</style>\n",
       "<table border=\"1\" class=\"dataframe\">\n",
       "  <thead>\n",
       "    <tr style=\"text-align: right;\">\n",
       "      <th></th>\n",
       "      <th>Laboratory_1</th>\n",
       "      <th>Laboratory_2</th>\n",
       "      <th>Laboratory_3</th>\n",
       "      <th>Laboratory_4</th>\n",
       "    </tr>\n",
       "  </thead>\n",
       "  <tbody>\n",
       "    <tr>\n",
       "      <th>0</th>\n",
       "      <td>185.35</td>\n",
       "      <td>165.53</td>\n",
       "      <td>176.70</td>\n",
       "      <td>166.13</td>\n",
       "    </tr>\n",
       "    <tr>\n",
       "      <th>1</th>\n",
       "      <td>170.49</td>\n",
       "      <td>185.91</td>\n",
       "      <td>198.45</td>\n",
       "      <td>160.79</td>\n",
       "    </tr>\n",
       "    <tr>\n",
       "      <th>2</th>\n",
       "      <td>192.77</td>\n",
       "      <td>194.92</td>\n",
       "      <td>201.23</td>\n",
       "      <td>185.18</td>\n",
       "    </tr>\n",
       "    <tr>\n",
       "      <th>3</th>\n",
       "      <td>177.33</td>\n",
       "      <td>183.00</td>\n",
       "      <td>199.61</td>\n",
       "      <td>176.42</td>\n",
       "    </tr>\n",
       "    <tr>\n",
       "      <th>4</th>\n",
       "      <td>193.41</td>\n",
       "      <td>169.57</td>\n",
       "      <td>204.63</td>\n",
       "      <td>152.60</td>\n",
       "    </tr>\n",
       "  </tbody>\n",
       "</table>\n",
       "</div>"
      ],
      "text/plain": [
       "   Laboratory_1  Laboratory_2  Laboratory_3  Laboratory_4\n",
       "0        185.35        165.53        176.70        166.13\n",
       "1        170.49        185.91        198.45        160.79\n",
       "2        192.77        194.92        201.23        185.18\n",
       "3        177.33        183.00        199.61        176.42\n",
       "4        193.41        169.57        204.63        152.60"
      ]
     },
     "execution_count": 5,
     "metadata": {},
     "output_type": "execute_result"
    }
   ],
   "source": [
    "#Display first 5 line data\n",
    "df.head()"
   ]
  },
  {
   "cell_type": "code",
   "execution_count": 6,
   "id": "758fca31-83f9-41f5-a121-96ec9451d169",
   "metadata": {},
   "outputs": [
    {
     "name": "stdout",
     "output_type": "stream",
     "text": [
      "\n",
      "Summary Statistics:        Laboratory_1  Laboratory_2  Laboratory_3  Laboratory_4\n",
      "count    120.000000    120.000000    120.000000     120.00000\n",
      "mean     178.257333    178.902917    200.210167     163.68275\n",
      "std       13.919668     14.957114     15.794801      15.08508\n",
      "min      140.250000    140.550000    170.580000     124.06000\n",
      "25%      170.267500    168.025000    190.182500     154.05000\n",
      "50%      179.055000    178.870000    198.610000     164.42500\n",
      "75%      187.222500    189.112500    211.197500     172.88250\n",
      "max      216.390000    217.860000    238.700000     205.18000\n"
     ]
    }
   ],
   "source": [
    "# Step 1: Exploratory Data Analysis (EDA)\n",
    "print(\"\\nSummary Statistics:\",df.describe())"
   ]
  },
  {
   "cell_type": "code",
   "execution_count": 7,
   "id": "276da503-ac22-4fbe-a714-72f8f20fb49d",
   "metadata": {},
   "outputs": [
    {
     "data": {
      "text/plain": [
       "<Figure size 1200x600 with 0 Axes>"
      ]
     },
     "execution_count": 7,
     "metadata": {},
     "output_type": "execute_result"
    },
    {
     "data": {
      "text/plain": [
       "<Figure size 1200x600 with 0 Axes>"
      ]
     },
     "metadata": {},
     "output_type": "display_data"
    }
   ],
   "source": [
    "# Step 2: Visualize Data Distribution\n",
    "plt.figure(figsize=(12,6))"
   ]
  },
  {
   "cell_type": "code",
   "execution_count": 8,
   "id": "bb3e4dc6-e602-487e-85a1-e37b98f34c81",
   "metadata": {},
   "outputs": [
    {
     "data": {
      "text/plain": [
       "<Axes: title={'center': 'Histogram of TAT'}, ylabel='Frequency'>"
      ]
     },
     "execution_count": 8,
     "metadata": {},
     "output_type": "execute_result"
    },
    {
     "data": {
      "image/png": "[encoded data removed]",
      "text/plain": [
       "<Figure size 1000x500 with 1 Axes>"
      ]
     },
     "metadata": {},
     "output_type": "display_data"
    }
   ],
   "source": [
    "# Histogram for each laboratory\n",
    "df.plot(kind='hist', alpha=0.6, bins=20, figsize=(10,5), legend=True, title=\"Histogram of TAT\")"
   ]
  },
  {
   "cell_type": "code",
   "execution_count": 9,
   "id": "b44ff3a2-8237-413f-985a-a5afb5fb8504",
   "metadata": {},
   "outputs": [
    {
     "data": {
      "image/png": "[encoded data removed]",
      "text/plain": [
       "<Figure size 1000x500 with 1 Axes>"
      ]
     },
     "metadata": {},
     "output_type": "display_data"
    }
   ],
   "source": [
    "# Boxplot for each laboratory\n",
    "plt.figure(figsize=(10,5))\n",
    "sns.boxplot(data=df)\n",
    "plt.title(\"Boxplot of TAT for Different Laboratories\")\n",
    "plt.xlabel(\"Laboratories\")\n",
    "plt.ylabel(\"Turn Around Time\")\n",
    "plt.show()"
   ]
  },
  {
   "cell_type": "code",
   "execution_count": 10,
   "id": "c294b79c-cad1-4165-95dc-3efbf4676fba",
   "metadata": {},
   "outputs": [
    {
     "name": "stdout",
     "output_type": "stream",
     "text": [
      "\n",
      "Shapiro-Wilk Test Results:\n",
      "Laboratory_1: W-statistic = 0.9887, p-value = 0.4232\n",
      "Laboratory_2: W-statistic = 0.9936, p-value = 0.8637\n",
      "Laboratory_3: W-statistic = 0.9796, p-value = 0.0655\n",
      "Laboratory_4: W-statistic = 0.9914, p-value = 0.6620\n"
     ]
    }
   ],
   "source": [
    "# Step 3: Check Normality using Shapiro-Wilk Test\n",
    "print(\"\\nShapiro-Wilk Test Results:\")\n",
    "for col in df.columns:\n",
    "    stat, p = shapiro(df[col])\n",
    "    print(f\"{col}: W-statistic = {stat:.4f}, p-value = {p:.4f}\")"
   ]
  },
  {
   "cell_type": "code",
   "execution_count": 11,
   "id": "d17f9a60-f944-43c0-b06a-9e7b74d663c6",
   "metadata": {},
   "outputs": [],
   "source": [
    "# Step 4: Check Homogeneity of Variance using Levene’s test\n",
    "stat_lev, p_lev = levene(df['Laboratory_1'], df['Laboratory_2'], df['Laboratory_3'], df['Laboratory_4'])"
   ]
  },
  {
   "cell_type": "code",
   "execution_count": 12,
   "id": "5de92b6a-a817-4a91-bc48-d2a0f0405de0",
   "metadata": {},
   "outputs": [
    {
     "name": "stdout",
     "output_type": "stream",
     "text": [
      "\n",
      "Levene’s Test for Equal Variance:\n",
      "Levene’s Statistic = 1.0253, p-value = 0.3811\n"
     ]
    }
   ],
   "source": [
    "print(\"\\nLevene’s Test for Equal Variance:\")\n",
    "print(f\"Levene’s Statistic = {stat_lev:.4f}, p-value = {p_lev:.4f}\")"
   ]
  },
  {
   "cell_type": "code",
   "execution_count": 13,
   "id": "47a2c12e-d030-4ef3-ad62-899d01740288",
   "metadata": {},
   "outputs": [
    {
     "name": "stdout",
     "output_type": "stream",
     "text": [
      "Variances are equal. Proceed with One-Way ANOVA.\n",
      "\n"
     ]
    }
   ],
   "source": [
    "if p_lev > 0.05:\n",
    "    print(\"Variances are equal. Proceed with One-Way ANOVA.\\n\")\n",
    "else:\n",
    "    print(\"Variances are not equal. Consider using Kruskal-Wallis test instead.\\n\")"
   ]
  },
  {
   "cell_type": "code",
   "execution_count": 14,
   "id": "36f11f57-88b7-4301-bac8-934ee213505b",
   "metadata": {},
   "outputs": [
    {
     "name": "stdout",
     "output_type": "stream",
     "text": [
      "\n",
      "One-Way ANOVA Test Results:\n",
      "F-statistic = 121.3926, p-value = 0.0000\n"
     ]
    }
   ],
   "source": [
    "# Step 5: Perform One-Way ANOVA\n",
    "stat_anova, p_anova = f_oneway(df['Laboratory_1'], df['Laboratory_2'], df['Laboratory_3'], df['Laboratory_4'])\n",
    "print(\"\\nOne-Way ANOVA Test Results:\")\n",
    "print(f\"F-statistic = {stat_anova:.4f}, p-value = {p_anova:.4f}\")"
   ]
  },
  {
   "cell_type": "code",
   "execution_count": 15,
   "id": "9e5c279f-2c03-41f6-94f0-67b9dfd783f7",
   "metadata": {},
   "outputs": [
    {
     "name": "stdout",
     "output_type": "stream",
     "text": [
      "\n",
      "Conclusion: Reject the null hypothesis (H0).\n",
      "There is a significant difference in the mean TAT among the laboratories.\n",
      "\n"
     ]
    }
   ],
   "source": [
    "# Step 6: Conclusion\n",
    "if p_anova < 0.05:\n",
    "    print(\"\\nConclusion: Reject the null hypothesis (H0).\")\n",
    "    print(\"There is a significant difference in the mean TAT among the laboratories.\\n\")\n",
    "else:\n",
    "    print(\"\\nConclusion: Fail to reject the null hypothesis (H0).\")\n",
    "    print(\"There is NO significant difference in the mean TAT among the laboratories.\\n\")"
   ]
  },
  {
   "cell_type": "code",
   "execution_count": null,
   "id": "782dc15f-5c8e-495b-a1ab-52df8b209e4c",
   "metadata": {},
   "outputs": [],
   "source": []
  }
 ],
 "metadata": {
  "kernelspec": {
   "display_name": "Python 3 (ipykernel)",
   "language": "python",
   "name": "python3"
  },
  "language_info": {
   "codemirror_mode": {
    "name": "ipython",
    "version": 3
   },
   "file_extension": ".py",
   "mimetype": "text/x-python",
   "name": "python",
   "nbconvert_exporter": "python",
   "pygments_lexer": "ipython3",
   "version": "3.11.7"
  }
 },
 "nbformat": 4,
 "nbformat_minor": 5
}
